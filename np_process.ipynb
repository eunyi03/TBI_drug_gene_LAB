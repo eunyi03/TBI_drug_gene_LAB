{
 "cells": [
  {
   "cell_type": "code",
   "execution_count": 1,
   "metadata": {},
   "outputs": [],
   "source": [
    "from network import str2bool, isNum, Walker, main_propagation\n",
    "import network\n",
    "import sys"
   ]
  },
  {
   "cell_type": "markdown",
   "metadata": {},
   "source": [
    "## combined_score > 800"
   ]
  },
  {
   "cell_type": "code",
   "execution_count": 3,
   "metadata": {},
   "outputs": [
    {
     "name": "stdout",
     "output_type": "stream",
     "text": [
      "12 iterated\n"
     ]
    }
   ],
   "source": [
    "# 명령행 인자 설정\n",
    "sys.argv = [\n",
    "    'network.py', \n",
    "    'input_graph_800.txt',  # input_graph.txt 파일 경로\n",
    "    '/data1/project/eunyi/tbi/0.adjusted_subacute_up_deg_list.txt',    # seed_file.txt 파일 경로\n",
    "    '-o', '/data1/project/eunyi/tbi/drug_gene/0.adjusted_subacute_up.txt', # 출력 파일 설정\n",
    "    '-e', '0.01',       # restart probability 설정\n",
    "    '-constantWeight', 'False', # 선택적 인자들 설정\n",
    "    '-absoluteWeight', 'False',\n",
    "    '-addBidirectionEdge', 'False',\n",
    "    '-normalize', 'False'\n",
    "]\n",
    "\n",
    "# main_propagation 함수 호출\n",
    "network.main_propagation(sys.argv)"
   ]
  },
  {
   "cell_type": "code",
   "execution_count": 4,
   "metadata": {},
   "outputs": [
    {
     "name": "stdout",
     "output_type": "stream",
     "text": [
      "10 iterated\n"
     ]
    }
   ],
   "source": [
    "# 명령행 인자 설정\n",
    "sys.argv = [\n",
    "    'network.py', \n",
    "    'input_graph_800.txt',  # input_graph.txt 파일 경로\n",
    "    '/data1/project/eunyi/tbi/0.adjusted_subacute_down_deg_list.txt',    # seed_file.txt 파일 경로\n",
    "    '-o', '/data1/project/eunyi/tbi/drug_gene/0.adjusted_subacute_down.txt', # 출력 파일 설정\n",
    "    '-e', '0.01',       # restart probability 설정\n",
    "    '-constantWeight', 'False', # 선택적 인자들 설정\n",
    "    '-absoluteWeight', 'False',\n",
    "    '-addBidirectionEdge', 'False',\n",
    "    '-normalize', 'False'\n",
    "]\n",
    "\n",
    "# main_propagation 함수 호출\n",
    "network.main_propagation(sys.argv)"
   ]
  },
  {
   "cell_type": "code",
   "execution_count": 2,
   "metadata": {},
   "outputs": [
    {
     "name": "stdout",
     "output_type": "stream",
     "text": [
      "12 iterated\n"
     ]
    }
   ],
   "source": [
    "# 명령행 인자 설정\n",
    "sys.argv = [\n",
    "    'network.py', \n",
    "    'input_graph_800.txt',  # input_graph.txt 파일 경로\n",
    "    '/data1/project/eunyi/tbi/0.adjusted_acute_up_deg_list.txt',    # seed_file.txt 파일 경로\n",
    "    '-o', '/data1/project/eunyi/tbi/drug_gene/0.adjusted_acute_up.txt', # 출력 파일 설정\n",
    "    '-e', '0.01',       # restart probability 설정\n",
    "    '-constantWeight', 'False', # 선택적 인자들 설정\n",
    "    '-absoluteWeight', 'False',\n",
    "    '-addBidirectionEdge', 'False',\n",
    "    '-normalize', 'False'\n",
    "]\n",
    "\n",
    "# main_propagation 함수 호출\n",
    "network.main_propagation(sys.argv)"
   ]
  },
  {
   "cell_type": "code",
   "execution_count": 3,
   "metadata": {},
   "outputs": [
    {
     "name": "stdout",
     "output_type": "stream",
     "text": [
      "11 iterated\n"
     ]
    }
   ],
   "source": [
    "# 명령행 인자 설정\n",
    "sys.argv = [\n",
    "    'network.py', \n",
    "    'input_graph_800.txt',  # input_graph.txt 파일 경로\n",
    "    '/data1/project/eunyi/tbi/0.adjusted_acute_down_deg_list.txt',    # seed_file.txt 파일 경로\n",
    "    '-o', '/data1/project/eunyi/tbi/drug_gene/0.adjusted_acute_down.txt', # 출력 파일 설정\n",
    "    '-e', '0.01',       # restart probability 설정\n",
    "    '-constantWeight', 'False', # 선택적 인자들 설정\n",
    "    '-absoluteWeight', 'False',\n",
    "    '-addBidirectionEdge', 'False',\n",
    "    '-normalize', 'False'\n",
    "]\n",
    "\n",
    "# main_propagation 함수 호출\n",
    "network.main_propagation(sys.argv) "
   ]
  },
  {
   "cell_type": "markdown",
   "metadata": {},
   "source": [
    "# subacute, acute 전체 scatterplot"
   ]
  },
  {
   "cell_type": "code",
   "execution_count": 3,
   "metadata": {},
   "outputs": [
    {
     "name": "stdout",
     "output_type": "stream",
     "text": [
      "17 iterated\n"
     ]
    }
   ],
   "source": [
    "# 명령행 인자 설정\n",
    "sys.argv = [\n",
    "    'network.py', \n",
    "    'input_graph_800.txt',  # input_graph.txt 파일 경로\n",
    "    '/data1/project/eunyi/tbi/drug_gene/1.gene_subacute.txt',    # seed_file.txt 파일 경로\n",
    "    '-o', '/data1/project/eunyi/tbi/drug_gene/1.output_subacute.txt', # 출력 파일 설정\n",
    "    '-e', '0.01',       # restart probability 설정\n",
    "    '-constantWeight', 'False', # 선택적 인자들 설정\n",
    "    '-absoluteWeight', 'False',\n",
    "    '-addBidirectionEdge', 'False',\n",
    "    '-normalize', 'False'\n",
    "]\n",
    "\n",
    "# main_propagation 함수 호출\n",
    "network.main_propagation(sys.argv) "
   ]
  },
  {
   "cell_type": "code",
   "execution_count": 4,
   "metadata": {},
   "outputs": [
    {
     "name": "stdout",
     "output_type": "stream",
     "text": [
      "17 iterated\n"
     ]
    }
   ],
   "source": [
    "# 명령행 인자 설정\n",
    "sys.argv = [\n",
    "    'network.py', \n",
    "    'input_graph_800.txt',  # input_graph.txt 파일 경로\n",
    "    '/data1/project/eunyi/tbi/drug_gene/1.gene_acute.txt',    # seed_file.txt 파일 경로\n",
    "    '-o', '/data1/project/eunyi/tbi/drug_gene/1.output_acute.txt', # 출력 파일 설정\n",
    "    '-e', '0.01',       # restart probability 설정\n",
    "    '-constantWeight', 'False', # 선택적 인자들 설정\n",
    "    '-absoluteWeight', 'False',\n",
    "    '-addBidirectionEdge', 'False',\n",
    "    '-normalize', 'False'\n",
    "]\n",
    "\n",
    "# main_propagation 함수 호출\n",
    "network.main_propagation(sys.argv) "
   ]
  },
  {
   "cell_type": "markdown",
   "metadata": {},
   "source": [
    "## tdc_gene -> np_score 구하기"
   ]
  },
  {
   "cell_type": "code",
   "execution_count": 5,
   "metadata": {},
   "outputs": [
    {
     "name": "stdout",
     "output_type": "stream",
     "text": [
      "14 iterated\n"
     ]
    }
   ],
   "source": [
    "# 명령행 인자 설정\n",
    "sys.argv = [\n",
    "    'network.py', \n",
    "    'input_graph_800.txt',  # input_graph.txt 파일 경로\n",
    "    '/data1/project/eunyi/tbi/drug_gene/tdc_gene.txt',    # seed_file.txt 파일 경로\n",
    "    '-o', '/data1/project/eunyi/tbi/drug_gene/tdc_gene_output.txt', # 출력 파일 설정\n",
    "    '-e', '0.01',       # restart probability 설정\n",
    "    '-constantWeight', 'False', # 선택적 인자들 설정\n",
    "    '-absoluteWeight', 'False',\n",
    "    '-addBidirectionEdge', 'False',\n",
    "    '-normalize', 'False'\n",
    "]\n",
    "\n",
    "# main_propagation 함수 호출\n",
    "network.main_propagation(sys.argv)"
   ]
  },
  {
   "cell_type": "markdown",
   "metadata": {},
   "source": [
    "## TBI전체 데이터 gene에 대해"
   ]
  },
  {
   "cell_type": "code",
   "execution_count": 2,
   "metadata": {},
   "outputs": [
    {
     "name": "stdout",
     "output_type": "stream",
     "text": [
      "125 iterated\n"
     ]
    }
   ],
   "source": [
    "# 명령행 인자 설정\n",
    "sys.argv = [\n",
    "    'network.py', \n",
    "    'input_graph_800.txt',  # input_graph.txt 파일 경로\n",
    "    '/data1/project/eunyi/DrugBank/gene_list.txt',    # seed_file.txt 파일 경로\n",
    "    '-o', '/data1/project/eunyi/DrugBank/tbi_gene_output.txt', # 출력 파일 설정\n",
    "    '-e', '0.01',       # restart probability 설정\n",
    "    '-constantWeight', 'False', # 선택적 인자들 설정\n",
    "    '-absoluteWeight', 'False',\n",
    "    '-addBidirectionEdge', 'False',\n",
    "    '-normalize', 'False'\n",
    "]\n",
    "\n",
    "# main_propagation 함수 호출\n",
    "network.main_propagation(sys.argv)"
   ]
  }
 ],
 "metadata": {
  "kernelspec": {
   "display_name": "Python 3",
   "language": "python",
   "name": "python3"
  },
  "language_info": {
   "codemirror_mode": {
    "name": "ipython",
    "version": 3
   },
   "file_extension": ".py",
   "mimetype": "text/x-python",
   "name": "python",
   "nbconvert_exporter": "python",
   "pygments_lexer": "ipython3",
   "version": "3.8.19"
  }
 },
 "nbformat": 4,
 "nbformat_minor": 2
}
